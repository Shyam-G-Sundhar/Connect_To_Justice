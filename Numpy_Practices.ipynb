{
  "metadata": {
    "kernelspec": {
      "language": "python",
      "display_name": "Python 3",
      "name": "python3"
    },
    "language_info": {
      "name": "python",
      "version": "3.10.13",
      "mimetype": "text/x-python",
      "codemirror_mode": {
        "name": "ipython",
        "version": 3
      },
      "pygments_lexer": "ipython3",
      "nbconvert_exporter": "python",
      "file_extension": ".py"
    },
    "kaggle": {
      "accelerator": "none",
      "dataSources": [],
      "dockerImageVersionId": 30646,
      "isInternetEnabled": true,
      "language": "python",
      "sourceType": "notebook",
      "isGpuEnabled": false
    },
    "colab": {
      "name": "Numpy Practices",
      "provenance": [],
      "include_colab_link": true
    }
  },
  "nbformat_minor": 0,
  "nbformat": 4,
  "cells": [
    {
      "cell_type": "markdown",
      "metadata": {
        "id": "view-in-github",
        "colab_type": "text"
      },
      "source": [
        "<a href=\"https://colab.research.google.com/github/Shyam-G-Sundhar/Connect_To_Justice/blob/main/Numpy_Practices.ipynb\" target=\"_parent\"><img src=\"https://colab.research.google.com/assets/colab-badge.svg\" alt=\"Open In Colab\"/></a>"
      ]
    },
    {
      "cell_type": "markdown",
      "source": [
        "# Numpy Practices\n",
        "### Shyam Sundhar G"
      ],
      "metadata": {
        "id": "9rN_-9Nwr56N"
      }
    },
    {
      "cell_type": "code",
      "source": [
        "\n",
        "import numpy as np # linear algebra\n",
        "import pandas as pd # data processing, CSV file I/O (e.g. pd.read_csv)\n",
        "\n",
        "\n",
        "import os\n",
        "for dirname, _, filenames in os.walk('/kaggle/input'):\n",
        "    for filename in filenames:\n",
        "        print(os.path.join(dirname, filename))"
      ],
      "metadata": {
        "_uuid": "8f2839f25d086af736a60e9eeb907d3b93b6e0e5",
        "_cell_guid": "b1076dfc-b9ad-4769-8c92-a6c4dae69d19",
        "execution": {
          "iopub.status.busy": "2024-02-16T06:24:34.02256Z",
          "iopub.execute_input": "2024-02-16T06:24:34.022947Z",
          "iopub.status.idle": "2024-02-16T06:24:34.411897Z",
          "shell.execute_reply.started": "2024-02-16T06:24:34.022917Z",
          "shell.execute_reply": "2024-02-16T06:24:34.410939Z"
        },
        "trusted": true,
        "id": "L9xnUHLlr56Q"
      },
      "execution_count": null,
      "outputs": []
    },
    {
      "cell_type": "markdown",
      "source": [
        "## Creating Numpy Arrays"
      ],
      "metadata": {
        "id": "QiuZMnjBr56S"
      }
    },
    {
      "cell_type": "code",
      "source": [
        "arr1=np.array([1,2,5],dtype=np.int32)\n",
        "arr1"
      ],
      "metadata": {
        "execution": {
          "iopub.status.busy": "2024-02-16T06:24:34.413634Z",
          "iopub.execute_input": "2024-02-16T06:24:34.414075Z",
          "iopub.status.idle": "2024-02-16T06:24:34.421839Z",
          "shell.execute_reply.started": "2024-02-16T06:24:34.414047Z",
          "shell.execute_reply": "2024-02-16T06:24:34.420756Z"
        },
        "trusted": true,
        "id": "2m-3K4zHr56T"
      },
      "execution_count": null,
      "outputs": []
    },
    {
      "cell_type": "code",
      "source": [
        "# Creating 2 D Array\n",
        "ogarr=np.array([[1,2,3],[7,8,9]])\n",
        "ogarr"
      ],
      "metadata": {
        "execution": {
          "iopub.status.busy": "2024-02-16T06:24:34.423423Z",
          "iopub.execute_input": "2024-02-16T06:24:34.423871Z",
          "iopub.status.idle": "2024-02-16T06:24:34.434688Z",
          "shell.execute_reply.started": "2024-02-16T06:24:34.423804Z",
          "shell.execute_reply": "2024-02-16T06:24:34.433702Z"
        },
        "trusted": true,
        "id": "kjeqMplcr56T"
      },
      "execution_count": null,
      "outputs": []
    },
    {
      "cell_type": "code",
      "source": [
        "# Creating 3 D Array\n",
        "ogarr1=np.array([[[1,2],[5,6],[5,9]]])\n",
        "ogarr1"
      ],
      "metadata": {
        "trusted": true,
        "id": "JVbNnVtDr56U"
      },
      "execution_count": null,
      "outputs": []
    },
    {
      "cell_type": "markdown",
      "source": [
        "## Linspace Command"
      ],
      "metadata": {
        "id": "DXyBA002r56U"
      }
    },
    {
      "cell_type": "code",
      "source": [
        "linarr=np.linspace(0,5,8)\n",
        "linarr"
      ],
      "metadata": {
        "trusted": true,
        "id": "VsciZB0zr56U"
      },
      "execution_count": null,
      "outputs": []
    },
    {
      "cell_type": "code",
      "source": [
        "linarr=np.linspace(0,8,5) # 0 => start 8 => end 2=> no of elements\n",
        "linarr"
      ],
      "metadata": {
        "trusted": true,
        "id": "4lsx9KmTr56V"
      },
      "execution_count": null,
      "outputs": []
    },
    {
      "cell_type": "markdown",
      "source": [
        "## Logspace Command"
      ],
      "metadata": {
        "id": "e1k-Lkx9r56V"
      }
    },
    {
      "cell_type": "code",
      "source": [
        "logarr=np.logspace(0,5,8) # 0 => start 8 => end 2=> no of elements\n",
        "logarr"
      ],
      "metadata": {
        "trusted": true,
        "id": "XCbEs4wor56W"
      },
      "execution_count": null,
      "outputs": []
    },
    {
      "cell_type": "markdown",
      "source": [
        "## Arange Command"
      ],
      "metadata": {
        "id": "RIAxtV6sr56W"
      }
    },
    {
      "cell_type": "code",
      "source": [
        "ranarr=np.arange(0,50,2) # 0=> Start 50=> Stop 2=> Step\n",
        "ranarr"
      ],
      "metadata": {
        "trusted": true,
        "id": "qUKGcaFVr56W"
      },
      "execution_count": null,
      "outputs": []
    },
    {
      "cell_type": "markdown",
      "source": [
        "## Zero Matrix"
      ],
      "metadata": {
        "id": "iqzJTbPAr56X"
      }
    },
    {
      "cell_type": "code",
      "source": [
        "zeroarr=np.zeros(3)\n",
        "zeroarr"
      ],
      "metadata": {
        "trusted": true,
        "id": "n-WSz0wKr56X"
      },
      "execution_count": null,
      "outputs": []
    },
    {
      "cell_type": "code",
      "source": [
        "zeroarr1=np.zeros((3,3))\n",
        "zeroarr1"
      ],
      "metadata": {
        "trusted": true,
        "id": "AoxM_fWyr56X"
      },
      "execution_count": null,
      "outputs": []
    },
    {
      "cell_type": "code",
      "source": [
        "zerolikearr= np.zeros_like(ogarr) # Create a Zero matrix with the shape of given array\n",
        "zerolikearr"
      ],
      "metadata": {
        "trusted": true,
        "id": "ezFaVOOxr56Y"
      },
      "execution_count": null,
      "outputs": []
    },
    {
      "cell_type": "markdown",
      "source": [
        "## Ones Matrix"
      ],
      "metadata": {
        "id": "lLyp6jzNr56Y"
      }
    },
    {
      "cell_type": "code",
      "source": [
        "onearr=np.ones(3)\n",
        "onearr"
      ],
      "metadata": {
        "trusted": true,
        "id": "JhW2GQyar56Y"
      },
      "execution_count": null,
      "outputs": []
    },
    {
      "cell_type": "code",
      "source": [
        "onearr1=np.ones((3,3))\n",
        "onearr1"
      ],
      "metadata": {
        "trusted": true,
        "id": "283a7lnGr56Y"
      },
      "execution_count": null,
      "outputs": []
    },
    {
      "cell_type": "code",
      "source": [
        "onelikearr= np.ones_like(ogarr) # Create a Ones matrix with the shape of given array\n",
        "onelikearr"
      ],
      "metadata": {
        "trusted": true,
        "id": "PqR_REZVr56Z"
      },
      "execution_count": null,
      "outputs": []
    },
    {
      "cell_type": "markdown",
      "source": [
        "# 2 - Array Inspection"
      ],
      "metadata": {
        "id": "6Dbszj_hr56Z"
      }
    },
    {
      "cell_type": "markdown",
      "source": [
        "## Array Dimension and Shapes"
      ],
      "metadata": {
        "id": "Tticodibr56Z"
      }
    },
    {
      "cell_type": "code",
      "source": [
        "arrd=np.array([1,2,3])\n",
        "print(f\"Dimension: {arrd.ndim} , Shape: {arrd.shape} , Size: {arrd.size}\")"
      ],
      "metadata": {
        "trusted": true,
        "id": "_-X5PyUZr56Z"
      },
      "execution_count": null,
      "outputs": []
    },
    {
      "cell_type": "markdown",
      "source": [
        "## Array Indexing and Slicing"
      ],
      "metadata": {
        "id": "mhOFNrlxr56Z"
      }
    },
    {
      "cell_type": "code",
      "source": [
        "arrindexsli = np.array([10, 20, 30, 40, 50])\n",
        "fele=arrindexsli[0]\n",
        "thrdele=arrindexsli[2]\n",
        "lastele=arrindexsli[-1]\n",
        "print(f'''\n",
        "First Element : {fele}\n",
        "Second Element : {lastele}\n",
        "Last Element : {lastele}\n",
        "''')"
      ],
      "metadata": {
        "trusted": true,
        "id": "w8Xeyrj3r56a"
      },
      "execution_count": null,
      "outputs": []
    },
    {
      "cell_type": "code",
      "source": [
        "arr2d = np.array([[1, 2, 3], [4, 5, 6], [7, 8, 9]])\n",
        "\n",
        "sliarr=arr2d[0,1]\n",
        "sliarr"
      ],
      "metadata": {
        "trusted": true,
        "id": "fgEQdJjBr56a"
      },
      "execution_count": null,
      "outputs": []
    },
    {
      "cell_type": "code",
      "source": [
        "sliarr1=arr2d[1,1]\n",
        "sliarr1"
      ],
      "metadata": {
        "trusted": true,
        "id": "G3Pq8uePr56a"
      },
      "execution_count": null,
      "outputs": []
    },
    {
      "cell_type": "code",
      "source": [
        "sliarr2=arr2d[0,2]\n",
        "sliarr2"
      ],
      "metadata": {
        "trusted": true,
        "id": "o9cj4A6gr56a"
      },
      "execution_count": null,
      "outputs": []
    },
    {
      "cell_type": "code",
      "source": [
        "slicin=arr2d[1:4]\n",
        "slicin"
      ],
      "metadata": {
        "trusted": true,
        "id": "DpEd0x2Cr56b"
      },
      "execution_count": null,
      "outputs": []
    },
    {
      "cell_type": "code",
      "source": [
        "slicin=arr2d[0::2]\n",
        "slicin"
      ],
      "metadata": {
        "trusted": true,
        "id": "4xOkao1Tr56b"
      },
      "execution_count": null,
      "outputs": []
    },
    {
      "cell_type": "code",
      "source": [
        "slicin=arr2d[-2::]\n",
        "slicin"
      ],
      "metadata": {
        "trusted": true,
        "id": "_Bosr8Emr56b"
      },
      "execution_count": null,
      "outputs": []
    },
    {
      "cell_type": "code",
      "source": [
        "slicin=arr2d[arr2d>5]\n",
        "slicin"
      ],
      "metadata": {
        "trusted": true,
        "id": "5xLgZSvKr56c"
      },
      "execution_count": null,
      "outputs": []
    },
    {
      "cell_type": "code",
      "source": [
        "slicin=arr2d[1:3,0:2]\n",
        "slicin"
      ],
      "metadata": {
        "trusted": true,
        "id": "-yn4uXMxr56d"
      },
      "execution_count": null,
      "outputs": []
    },
    {
      "cell_type": "markdown",
      "source": [
        "# 3 Array Operations"
      ],
      "metadata": {
        "id": "Ogn8H584r56d"
      }
    },
    {
      "cell_type": "code",
      "source": [
        "arr1=np.array([1,2,3])\n",
        "arr2=np.array([5,8,7])\n",
        "sca=2\n",
        "\n",
        "res=arr1+arr2\n",
        "res"
      ],
      "metadata": {
        "trusted": true,
        "id": "96wM4HjZr56d"
      },
      "execution_count": null,
      "outputs": []
    },
    {
      "cell_type": "code",
      "source": [
        "res=arr1 - arr2\n",
        "res"
      ],
      "metadata": {
        "trusted": true,
        "id": "ftYyUwz8r56e"
      },
      "execution_count": null,
      "outputs": []
    },
    {
      "cell_type": "code",
      "source": [
        "res=arr1 * arr2\n",
        "res"
      ],
      "metadata": {
        "trusted": true,
        "id": "LlZVdoqgr56e"
      },
      "execution_count": null,
      "outputs": []
    },
    {
      "cell_type": "code",
      "source": [
        "res=arr1 / arr2\n",
        "res"
      ],
      "metadata": {
        "trusted": true,
        "id": "lGTmTDyPr56e"
      },
      "execution_count": null,
      "outputs": []
    },
    {
      "cell_type": "markdown",
      "source": [
        "## Matrix Operations"
      ],
      "metadata": {
        "id": "4uaIvXgcr56f"
      }
    },
    {
      "cell_type": "code",
      "source": [
        "matrix1 = np.array([[1, 2], [3, 4]])\n",
        "matrix2 = np.array([[5, 6], [7, 8]])\n",
        "\n",
        "res = matrix1+matrix2\n",
        "res"
      ],
      "metadata": {
        "trusted": true,
        "id": "Coxwk_RXr56f"
      },
      "execution_count": null,
      "outputs": []
    },
    {
      "cell_type": "code",
      "source": [
        "res = matrix1-matrix2\n",
        "res"
      ],
      "metadata": {
        "trusted": true,
        "id": "wVuoJImkr56g"
      },
      "execution_count": null,
      "outputs": []
    },
    {
      "cell_type": "code",
      "source": [
        "res = matrix1*matrix2\n",
        "res"
      ],
      "metadata": {
        "trusted": true,
        "id": "qfu6WFW7r56g"
      },
      "execution_count": null,
      "outputs": []
    },
    {
      "cell_type": "code",
      "source": [
        "res = matrix1/matrix2\n",
        "res"
      ],
      "metadata": {
        "trusted": true,
        "id": "FAywJ-rEr56g"
      },
      "execution_count": null,
      "outputs": []
    },
    {
      "cell_type": "code",
      "source": [
        "matrixmul=np.dot(matrix1,matrix2)\n",
        "matrixmul"
      ],
      "metadata": {
        "trusted": true,
        "id": "RxX2jJiOr56g"
      },
      "execution_count": null,
      "outputs": []
    },
    {
      "cell_type": "code",
      "source": [
        "matrix=matrix1*sca\n",
        "\n",
        "matrix"
      ],
      "metadata": {
        "trusted": true,
        "id": "JR0NZC1_r56h"
      },
      "execution_count": null,
      "outputs": []
    },
    {
      "cell_type": "markdown",
      "source": [
        "## Append and Delete"
      ],
      "metadata": {
        "id": "jWN_QzLrr56h"
      }
    },
    {
      "cell_type": "code",
      "source": [
        "ogarr=np.append(ogarr,[4,5,6])\n",
        "ogarr"
      ],
      "metadata": {
        "trusted": true,
        "id": "mVNAN_klr56h"
      },
      "execution_count": null,
      "outputs": []
    },
    {
      "cell_type": "code",
      "source": [
        "newarr=np.delete(ogarr,2)\n",
        "newarr"
      ],
      "metadata": {
        "trusted": true,
        "id": "4Sg-GNhmr56h"
      },
      "execution_count": null,
      "outputs": []
    },
    {
      "cell_type": "code",
      "source": [
        "newarr = np.delete(ogarr, 1, axis=0) # 0=> Row 1=> Column\n",
        "newarr"
      ],
      "metadata": {
        "trusted": true,
        "id": "oYBcSQ3Ir56i"
      },
      "execution_count": null,
      "outputs": []
    },
    {
      "cell_type": "markdown",
      "source": [
        "## Aggregation Functions"
      ],
      "metadata": {
        "id": "61TuJHTFr56i"
      }
    },
    {
      "cell_type": "code",
      "source": [
        "meanval=np.mean(ogarr)\n",
        "medianval=np.median(ogarr)\n",
        "stddev=np.std(ogarr)\n",
        "sumval=np.sum(ogarr)\n",
        "minval=np.min(ogarr)\n",
        "maxval=np.max(ogarr)\n",
        "sqrtarr=np.sqrt(ogarr)\n",
        "exparr=np.exp(ogarr)\n",
        "\n",
        "print(f'''\n",
        "Mean : {meanval}\n",
        "Median : {medianval}\n",
        "Standard Deviation : {stddev}\n",
        "Sum Value : {sumval}\n",
        "Minimum Value : {minval}\n",
        "Maximum Value : {maxval}\n",
        "\n",
        "Square Root : {sqrtarr}\n",
        "\n",
        "Exponential : {exparr}\n",
        "''')"
      ],
      "metadata": {
        "trusted": true,
        "id": "1A90tYx7r56i"
      },
      "execution_count": null,
      "outputs": []
    },
    {
      "cell_type": "markdown",
      "source": [
        "## Reshaping Arrays"
      ],
      "metadata": {
        "id": "QjQe0PkEr56j"
      }
    },
    {
      "cell_type": "code",
      "source": [
        "arr2d = np.array([[1, 2, 3], [4, 5, 6]])\n",
        "\n",
        "arr1d=arr2d.reshape(6)\n",
        "arr1d"
      ],
      "metadata": {
        "trusted": true,
        "id": "YaRmTVygr56j"
      },
      "execution_count": null,
      "outputs": []
    },
    {
      "cell_type": "code",
      "source": [
        "arr_1d = np.array([1, 2, 3, 4, 5, 6])\n",
        "\n",
        "arr_2d = arr_1d.reshape(2, 3)\n",
        "arr_2d"
      ],
      "metadata": {
        "trusted": true,
        "id": "MQ_7guyAr56j"
      },
      "execution_count": null,
      "outputs": []
    },
    {
      "cell_type": "markdown",
      "source": [
        "## Working with Skimage Library"
      ],
      "metadata": {
        "id": "ige0ijX_r56j"
      }
    },
    {
      "cell_type": "code",
      "source": [
        "from skimage import data\n",
        "image=data.coins()\n",
        "\n",
        "print(\"Original Image Shape : \",image.shape)\n",
        "\n",
        "reimage=image.reshape(-1)\n",
        "\n",
        "print(\"Reshaped Image Shape : \",reimage.shape)"
      ],
      "metadata": {
        "trusted": true,
        "id": "tRW6E1xfr56k"
      },
      "execution_count": null,
      "outputs": []
    },
    {
      "cell_type": "markdown",
      "source": [
        "# Working with Numpy Arrys"
      ],
      "metadata": {
        "id": "u33ffRS7r56k"
      }
    },
    {
      "cell_type": "markdown",
      "source": [
        "## Concatenation"
      ],
      "metadata": {
        "id": "L7u2oxMnr56k"
      }
    },
    {
      "cell_type": "code",
      "source": [
        "arr1 = np.array([1, 2, 3])\n",
        "arr2 = np.array([4, 5, 6])\n",
        "\n",
        "com = np.concatenate((arr1, arr2))\n",
        "com"
      ],
      "metadata": {
        "trusted": true,
        "id": "zpG1xO64r56k"
      },
      "execution_count": null,
      "outputs": []
    },
    {
      "cell_type": "code",
      "source": [
        "vsta = np.vstack((arr1, arr2))\n",
        "vsta"
      ],
      "metadata": {
        "trusted": true,
        "id": "03GKUcH_r56k"
      },
      "execution_count": null,
      "outputs": []
    },
    {
      "cell_type": "code",
      "source": [
        "hsta = np.hstack((arr1, arr2))\n",
        "hsta"
      ],
      "metadata": {
        "trusted": true,
        "id": "DCl9M62Ir56k"
      },
      "execution_count": null,
      "outputs": []
    },
    {
      "cell_type": "markdown",
      "source": [
        "## Splitting Arrays"
      ],
      "metadata": {
        "id": "854cXz81r56k"
      }
    },
    {
      "cell_type": "code",
      "source": [
        "arr = np.array([1, 2, 3, 4, 5, 6])\n",
        "\n",
        "sparr = np.split(arr, 3)\n",
        "sparr"
      ],
      "metadata": {
        "trusted": true,
        "id": "Bw1hjkEmr56l"
      },
      "execution_count": null,
      "outputs": []
    },
    {
      "cell_type": "markdown",
      "source": [
        "## Alias Command"
      ],
      "metadata": {
        "id": "Yuc__FIZr56l"
      }
    },
    {
      "cell_type": "code",
      "source": [
        "origrr = np.array([1, 2, 3])\n",
        "\n",
        "alarr = origrr\n",
        "\n",
        "alarr[0]=10\n",
        "\n",
        "origrr"
      ],
      "metadata": {
        "trusted": true,
        "id": "tNPN14uzr56l"
      },
      "execution_count": null,
      "outputs": []
    },
    {
      "cell_type": "markdown",
      "source": [
        "## View Command"
      ],
      "metadata": {
        "id": "o01i3qwjr56l"
      }
    },
    {
      "cell_type": "code",
      "source": [
        "original_arr = np.array([1, 2, 3])\n",
        "\n",
        "view_arr = original_arr.view()\n",
        "view_arr[0] = 99\n",
        "print(original_arr)"
      ],
      "metadata": {
        "trusted": true,
        "id": "voPoQRsYr56l"
      },
      "execution_count": null,
      "outputs": []
    },
    {
      "cell_type": "markdown",
      "source": [
        "## Copy Command"
      ],
      "metadata": {
        "id": "0n3gYsk3r56l"
      }
    },
    {
      "cell_type": "code",
      "source": [
        "original_arr = np.array([1, 2, 3])\n",
        "\n",
        "\n",
        "copy_arr = original_arr.copy()\n",
        "copy_arr[0] = 100\n",
        "\n",
        "print(original_arr)"
      ],
      "metadata": {
        "trusted": true,
        "id": "JPGXA8hOr56l"
      },
      "execution_count": null,
      "outputs": []
    },
    {
      "cell_type": "markdown",
      "source": [
        "## Sorting Numpy Arrays"
      ],
      "metadata": {
        "id": "cxBHRb4lr56m"
      }
    },
    {
      "cell_type": "code",
      "source": [
        "data = np.array([3, 1, 5, 2, 4])\n",
        "\n",
        "sorted_data = np.sort(data)\n",
        "print(\"Ascending sort\", sorted_data)\n",
        "reverse_sorted_data = np.sort(data)[::-1]\n",
        "print(\"Descending sort\", reverse_sorted_data)\n",
        "\n",
        "sorted_indices = np.argsort(data)\n",
        "print(\"Sorted Indices\", sorted_indices)"
      ],
      "metadata": {
        "trusted": true,
        "id": "hfTxRQ8Lr56m"
      },
      "execution_count": null,
      "outputs": []
    },
    {
      "cell_type": "markdown",
      "source": [
        "# Numpy for Data Cleaning"
      ],
      "metadata": {
        "id": "pmfvZkerr56m"
      }
    },
    {
      "cell_type": "markdown",
      "source": [
        "## Identify the Missing Values"
      ],
      "metadata": {
        "id": "-oqwKbRXr56m"
      }
    },
    {
      "cell_type": "code",
      "source": [
        "arr = np.array([1, 2, np.nan, 4, np.nan, 6])\n",
        "hasmiss = np.isnan(arr)\n",
        "print(hasmiss)"
      ],
      "metadata": {
        "trusted": true,
        "id": "hqWqGJbEr56m"
      },
      "execution_count": null,
      "outputs": []
    },
    {
      "cell_type": "markdown",
      "source": [
        "## Removing rows or columns with Missing Values"
      ],
      "metadata": {
        "id": "7AgQbFsir56m"
      }
    },
    {
      "cell_type": "code",
      "source": [
        "arr = np.array([[1, 2, 3], [4, np.nan, 6], [7, 8, 9]])\n",
        "\n",
        "cleaned_data = arr[~np.any(np.isnan(arr), axis=1)]\n",
        "print(cleaned_data)"
      ],
      "metadata": {
        "trusted": true,
        "id": "74cASQVpr56n"
      },
      "execution_count": null,
      "outputs": []
    },
    {
      "cell_type": "markdown",
      "source": [
        "# Numpy for Statistical Analysis"
      ],
      "metadata": {
        "id": "0J3him5ar56n"
      }
    },
    {
      "cell_type": "markdown",
      "source": [
        "## Data Transformation"
      ],
      "metadata": {
        "id": "qqGGLuSGr56n"
      }
    },
    {
      "cell_type": "code",
      "source": [
        "arr = np.array([10, 20, 30, 40, 50])\n",
        "mean = np.mean(arr)\n",
        "centered_data = arr - mean\n",
        "print('Centered data = ',centered_data)\n",
        "\n",
        "std_dev = np.std(arr)\n",
        "standardized_data = (arr - mean) / std_dev\n",
        "print(\"standardized data = \",standardized_data)\n",
        "\n",
        "log_transformed_data = np.log(arr)\n",
        "print(\"log_transformed_data = \",log_transformed_data)"
      ],
      "metadata": {
        "trusted": true,
        "id": "8MRGlGx4r56n"
      },
      "execution_count": null,
      "outputs": []
    },
    {
      "cell_type": "markdown",
      "source": [
        "## Random Sampling and Generation"
      ],
      "metadata": {
        "id": "oztQy1gWr56n"
      }
    },
    {
      "cell_type": "code",
      "source": [
        "rarr = np.array([1, 2, 3, 4, 5, 6, 7, 8, 9, 10])\n",
        "random_samples = np.random.choice(rarr, size=5, replace=False)\n",
        "random_samples"
      ],
      "metadata": {
        "execution": {
          "iopub.status.busy": "2024-02-16T06:25:29.158797Z",
          "iopub.execute_input": "2024-02-16T06:25:29.159184Z",
          "iopub.status.idle": "2024-02-16T06:25:29.170066Z",
          "shell.execute_reply.started": "2024-02-16T06:25:29.159152Z",
          "shell.execute_reply": "2024-02-16T06:25:29.168919Z"
        },
        "trusted": true,
        "id": "vWyZPhYnr56o"
      },
      "execution_count": null,
      "outputs": []
    },
    {
      "cell_type": "code",
      "source": [
        "num_samples = 1000\n",
        "bootsamples = np.random.choice(rarr, size=(num_samples, len(rarr)), replace=True)\n",
        "bootsamples"
      ],
      "metadata": {
        "execution": {
          "iopub.status.busy": "2024-02-16T06:26:20.040474Z",
          "iopub.execute_input": "2024-02-16T06:26:20.040821Z",
          "iopub.status.idle": "2024-02-16T06:26:20.049248Z",
          "shell.execute_reply.started": "2024-02-16T06:26:20.040794Z",
          "shell.execute_reply": "2024-02-16T06:26:20.048098Z"
        },
        "trusted": true,
        "id": "261AeWLur56o"
      },
      "execution_count": null,
      "outputs": []
    },
    {
      "cell_type": "markdown",
      "source": [
        "## Generation"
      ],
      "metadata": {
        "id": "Ykt148Ojr56o"
      }
    },
    {
      "cell_type": "code",
      "source": [
        "np.random.randint(0,100)"
      ],
      "metadata": {
        "execution": {
          "iopub.status.busy": "2024-02-16T06:26:44.348566Z",
          "iopub.execute_input": "2024-02-16T06:26:44.348961Z",
          "iopub.status.idle": "2024-02-16T06:26:44.355059Z",
          "shell.execute_reply.started": "2024-02-16T06:26:44.348928Z",
          "shell.execute_reply": "2024-02-16T06:26:44.353947Z"
        },
        "trusted": true,
        "id": "-voHBzusr56o"
      },
      "execution_count": null,
      "outputs": []
    },
    {
      "cell_type": "code",
      "source": [
        "mean = 0\n",
        "stddev = 1\n",
        "normval = np.random.normal(mean, stddev, 5)\n",
        "print(normval)"
      ],
      "metadata": {
        "execution": {
          "iopub.status.busy": "2024-02-16T06:27:17.126813Z",
          "iopub.execute_input": "2024-02-16T06:27:17.127223Z",
          "iopub.status.idle": "2024-02-16T06:27:17.132869Z",
          "shell.execute_reply.started": "2024-02-16T06:27:17.127192Z",
          "shell.execute_reply": "2024-02-16T06:27:17.132065Z"
        },
        "trusted": true,
        "id": "oSaYvr9Rr56o"
      },
      "execution_count": null,
      "outputs": []
    },
    {
      "cell_type": "code",
      "source": [
        "n_trials = 10\n",
        "probability = 0.5\n",
        "binovalues = np.random.binomial(n_trials, probability, 5)\n",
        "print(binovalues)"
      ],
      "metadata": {
        "execution": {
          "iopub.status.busy": "2024-02-16T06:27:38.246993Z",
          "iopub.execute_input": "2024-02-16T06:27:38.247436Z",
          "iopub.status.idle": "2024-02-16T06:27:38.252734Z",
          "shell.execute_reply.started": "2024-02-16T06:27:38.247404Z",
          "shell.execute_reply": "2024-02-16T06:27:38.251995Z"
        },
        "trusted": true,
        "id": "_638goZ6r56o"
      },
      "execution_count": null,
      "outputs": []
    },
    {
      "cell_type": "code",
      "source": [
        "rate = 2.5\n",
        "poisson_values = np.random.poisson(rate, 5)\n",
        "print(poisson_values)"
      ],
      "metadata": {
        "execution": {
          "iopub.status.busy": "2024-02-16T06:27:47.610864Z",
          "iopub.execute_input": "2024-02-16T06:27:47.611267Z",
          "iopub.status.idle": "2024-02-16T06:27:47.616898Z",
          "shell.execute_reply.started": "2024-02-16T06:27:47.611236Z",
          "shell.execute_reply": "2024-02-16T06:27:47.616059Z"
        },
        "trusted": true,
        "id": "JieLfjbDr56o"
      },
      "execution_count": null,
      "outputs": []
    },
    {
      "cell_type": "code",
      "source": [
        "scale_parameter = 0.5\n",
        "exponentialvalues = np.random.exponential(scale_parameter, 5)\n",
        "print(exponentialvalues)"
      ],
      "metadata": {
        "execution": {
          "iopub.status.busy": "2024-02-16T06:27:58.169586Z",
          "iopub.execute_input": "2024-02-16T06:27:58.169958Z",
          "iopub.status.idle": "2024-02-16T06:27:58.176095Z",
          "shell.execute_reply.started": "2024-02-16T06:27:58.169929Z",
          "shell.execute_reply": "2024-02-16T06:27:58.174897Z"
        },
        "trusted": true,
        "id": "YAx2BDBCr56p"
      },
      "execution_count": null,
      "outputs": []
    },
    {
      "cell_type": "code",
      "source": [
        "mean_of_log = 0\n",
        "std_dev_of_log = 0.5\n",
        "lognormalvalues = np.random.lognormal(mean_of_log, std_dev_of_log, 5)\n",
        "print(lognormalvalues)"
      ],
      "metadata": {
        "execution": {
          "iopub.status.busy": "2024-02-16T06:28:12.326457Z",
          "iopub.execute_input": "2024-02-16T06:28:12.326855Z",
          "iopub.status.idle": "2024-02-16T06:28:12.333221Z",
          "shell.execute_reply.started": "2024-02-16T06:28:12.326826Z",
          "shell.execute_reply": "2024-02-16T06:28:12.332143Z"
        },
        "trusted": true,
        "id": "f4XB1EPAr56p"
      },
      "execution_count": null,
      "outputs": []
    },
    {
      "cell_type": "code",
      "source": [
        "n_trials = 10\n",
        "probabilities = [0.2, 0.3, 0.5] # Probabilities of each outcome\n",
        "multivalues = np.random.multinomial(n_trials, probabilities, 5)\n",
        "print(multivalues)"
      ],
      "metadata": {
        "execution": {
          "iopub.status.busy": "2024-02-16T06:28:39.244093Z",
          "iopub.execute_input": "2024-02-16T06:28:39.244485Z",
          "iopub.status.idle": "2024-02-16T06:28:39.251018Z",
          "shell.execute_reply.started": "2024-02-16T06:28:39.244444Z",
          "shell.execute_reply": "2024-02-16T06:28:39.249681Z"
        },
        "trusted": true,
        "id": "FJU_YURlr56p"
      },
      "execution_count": null,
      "outputs": []
    },
    {
      "cell_type": "markdown",
      "source": [
        "# Numpy for Linear Algebra"
      ],
      "metadata": {
        "id": "N5g41rCwr56p"
      }
    },
    {
      "cell_type": "markdown",
      "source": [
        "## Complex Matrix Operations"
      ],
      "metadata": {
        "id": "lHXkO3TOr56p"
      }
    },
    {
      "cell_type": "code",
      "source": [
        "lar = np.array([[1, 2], [3, 4]])\n",
        "\n",
        "invlar = np.linalg.inv(lar)\n",
        "print(invlar)"
      ],
      "metadata": {
        "execution": {
          "iopub.status.busy": "2024-02-16T06:30:06.016678Z",
          "iopub.execute_input": "2024-02-16T06:30:06.017051Z",
          "iopub.status.idle": "2024-02-16T06:30:06.031386Z",
          "shell.execute_reply.started": "2024-02-16T06:30:06.017007Z",
          "shell.execute_reply": "2024-02-16T06:30:06.030396Z"
        },
        "trusted": true,
        "id": "ic1ylzPJr56p"
      },
      "execution_count": null,
      "outputs": []
    },
    {
      "cell_type": "code",
      "source": [
        "lar1 = np.array([[2, -1], [1, 1]])\n",
        "\n",
        "eigenvalues, eigenvectors = np.linalg.eig(lar1)\n",
        "print(\"eigenvalues:\",eigenvalues)\n",
        "print(\"eigenvectors:\",eigenvectors)"
      ],
      "metadata": {
        "execution": {
          "iopub.status.busy": "2024-02-16T06:30:27.22928Z",
          "iopub.execute_input": "2024-02-16T06:30:27.229661Z",
          "iopub.status.idle": "2024-02-16T06:30:27.253045Z",
          "shell.execute_reply.started": "2024-02-16T06:30:27.229633Z",
          "shell.execute_reply": "2024-02-16T06:30:27.251831Z"
        },
        "trusted": true,
        "id": "FC_3WGNMr56q"
      },
      "execution_count": null,
      "outputs": []
    },
    {
      "cell_type": "code",
      "source": [
        "lar2 = np.array([[1, 2], [3, 4], [5, 6]])\n",
        "\n",
        "U, S, VT = np.linalg.svd(lar2)\n",
        "\n",
        "print(U,S,VT)"
      ],
      "metadata": {
        "execution": {
          "iopub.status.busy": "2024-02-16T06:31:07.516408Z",
          "iopub.execute_input": "2024-02-16T06:31:07.516796Z",
          "iopub.status.idle": "2024-02-16T06:31:07.523187Z",
          "shell.execute_reply.started": "2024-02-16T06:31:07.516764Z",
          "shell.execute_reply": "2024-02-16T06:31:07.522222Z"
        },
        "trusted": true,
        "id": "fkYlsfWUr56q"
      },
      "execution_count": null,
      "outputs": []
    },
    {
      "cell_type": "markdown",
      "source": [
        "## Linear Equations"
      ],
      "metadata": {
        "id": "vmQXX3hcr56q"
      }
    },
    {
      "cell_type": "code",
      "source": [
        "A = np.array([[2, 3], [4, 5]])\n",
        "\n",
        "b = np.array([6, 7])\n",
        "\n",
        "x = np.linalg.solve(A, b)\n",
        "print(x)"
      ],
      "metadata": {
        "execution": {
          "iopub.status.busy": "2024-02-16T06:31:42.530799Z",
          "iopub.execute_input": "2024-02-16T06:31:42.531212Z",
          "iopub.status.idle": "2024-02-16T06:31:42.541175Z",
          "shell.execute_reply.started": "2024-02-16T06:31:42.531179Z",
          "shell.execute_reply": "2024-02-16T06:31:42.540066Z"
        },
        "trusted": true,
        "id": "g1FSVXdyr56q"
      },
      "execution_count": null,
      "outputs": []
    },
    {
      "cell_type": "markdown",
      "source": [
        "# Advanced Numpy Techniques"
      ],
      "metadata": {
        "id": "Xor7sUiEr56q"
      }
    },
    {
      "cell_type": "markdown",
      "source": [
        "## Masked Arrays"
      ],
      "metadata": {
        "id": "B7Gd2awMr56q"
      }
    },
    {
      "cell_type": "code",
      "source": [
        "import numpy.ma as ma\n",
        "temp = np.array([22.5, 23.0, -999, 24.5, -999, 26.0, 27.2, -999, 28.5])\n",
        "\n",
        "meantemp = np.mean(temp)\n",
        "\n",
        "print(\"Mean Temperature (without handling missing values):\", meantemp)\n",
        "\n",
        "\n",
        "mask = (temp == -999)\n",
        "\n",
        "masktemp = ma.masked_array(temp, mask=mask)\n",
        "\n",
        "meantemp = ma.mean(masktemp)\n",
        "\n",
        "print(\"Mean Temperature (excluding missing values):\", mean_temperature)"
      ],
      "metadata": {
        "execution": {
          "iopub.status.busy": "2024-02-16T06:35:20.593157Z",
          "iopub.execute_input": "2024-02-16T06:35:20.593552Z",
          "iopub.status.idle": "2024-02-16T06:35:20.601366Z",
          "shell.execute_reply.started": "2024-02-16T06:35:20.593526Z",
          "shell.execute_reply": "2024-02-16T06:35:20.599941Z"
        },
        "trusted": true,
        "id": "KsFpUfCNr56q"
      },
      "execution_count": null,
      "outputs": []
    },
    {
      "cell_type": "markdown",
      "source": [
        "## Structured Arrays"
      ],
      "metadata": {
        "id": "ZP9K24UGr56r"
      }
    },
    {
      "cell_type": "code",
      "source": [
        "dt = np.dtype([('name', 'S25'), ('age', int), ('salary', float)])\n",
        "\n",
        "employees = np.array([('Shyam', 18, 50000.0), ('Sundhar', 25, 60000.0)], dtype=dt)\n",
        "\n",
        "print(employees['name'][0])\n",
        "\n",
        "print(employees['age'])"
      ],
      "metadata": {
        "execution": {
          "iopub.status.busy": "2024-02-16T06:40:30.970636Z",
          "iopub.execute_input": "2024-02-16T06:40:30.971017Z",
          "iopub.status.idle": "2024-02-16T06:40:30.977203Z",
          "shell.execute_reply.started": "2024-02-16T06:40:30.970986Z",
          "shell.execute_reply": "2024-02-16T06:40:30.976147Z"
        },
        "trusted": true,
        "id": "0Tqcf6JIr56r"
      },
      "execution_count": null,
      "outputs": []
    }
  ]
}